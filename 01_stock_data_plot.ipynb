{
  "nbformat": 4,
  "nbformat_minor": 0,
  "metadata": {
    "colab": {
      "private_outputs": true,
      "provenance": [],
      "gpuType": "T4",
      "include_colab_link": true
    },
    "kernelspec": {
      "name": "python3",
      "display_name": "Python 3"
    },
    "language_info": {
      "name": "python"
    },
    "accelerator": "GPU"
  },
  "cells": [
    {
      "cell_type": "markdown",
      "metadata": {
        "id": "view-in-github",
        "colab_type": "text"
      },
      "source": [
        "<a href=\"https://colab.research.google.com/github/merucode/Stock/blob/11_stock_info/01_stock_data_plot.ipynb\" target=\"_parent\"><img src=\"https://colab.research.google.com/assets/colab-badge.svg\" alt=\"Open In Colab\"/></a>"
      ]
    },
    {
      "cell_type": "markdown",
      "source": [
        "# Install Dependency"
      ],
      "metadata": {
        "id": "YUfDAfleT9k-"
      }
    },
    {
      "cell_type": "code",
      "source": [
        "!pip install pykrxㅐ"
      ],
      "metadata": {
        "collapsed": true,
        "id": "NztO4qCyTva5"
      },
      "execution_count": null,
      "outputs": []
    },
    {
      "cell_type": "markdown",
      "source": [
        "# Get Stock Data"
      ],
      "metadata": {
        "id": "DK49AByhTvTR"
      }
    },
    {
      "cell_type": "markdown",
      "source": [
        "### Ready"
      ],
      "metadata": {
        "id": "QtiDm0ydm4Pt"
      }
    },
    {
      "cell_type": "markdown",
      "source": [
        "Import library"
      ],
      "metadata": {
        "id": "5aiww5fVVYW2"
      }
    },
    {
      "cell_type": "code",
      "source": [
        "from pykrx import stock\n",
        "import matplotlib.pyplot as plt\n",
        "%matplotlib inline"
      ],
      "metadata": {
        "id": "QQ2Ka6ePTvIZ"
      },
      "execution_count": null,
      "outputs": []
    },
    {
      "cell_type": "markdown",
      "source": [
        "Get ticker_dict(KOSPI, KOSDAQ)\n",
        "* ticker_dict(stock_name) = ticker"
      ],
      "metadata": {
        "id": "tvlR0tf6VGLy"
      }
    },
    {
      "cell_type": "code",
      "source": [
        "tickers_KOSDAQ = stock.get_market_ticker_list(market=\"KOSDAQ\")\n",
        "tickers_KOSPI = stock.get_market_ticker_list(market=\"KOSPI\")\n",
        "tickers = tickers_KOSDAQ + tickers_KOSPI\n",
        "ticker_dict = dict()\n",
        "\n",
        "for ticker in tickers:\n",
        "    stock_name = stock.get_market_ticker_name(ticker)\n",
        "    ticker_dict[stock_name] = ticker"
      ],
      "metadata": {
        "id": "dzq-I9AKTu0l"
      },
      "execution_count": null,
      "outputs": []
    },
    {
      "cell_type": "markdown",
      "source": [
        "### Get OHLCV Data"
      ],
      "metadata": {
        "id": "sT6NsMGkURvR"
      }
    },
    {
      "cell_type": "markdown",
      "source": [
        "Price change for years"
      ],
      "metadata": {
        "id": "MeKMhISmmjkV"
      }
    },
    {
      "cell_type": "code",
      "source": [
        "df_ohlcv = stock.get_market_ohlcv('20170101', '20231015', ticker_dict['하츠'])\n",
        "\n",
        "y_lst = [2017, 2018, 2019, 2021, 2022, 2023]\n",
        "for y in y_lst:\n",
        "    filter = (str(y+1) > df_ohlcv.index) & (df_ohlcv.index > str(y))\n",
        "    df_ohlcv_y = df_ohlcv[filter]\n",
        "    df_ohlcv_y = df_ohlcv_y.reset_index()\n",
        "\n",
        "    plt.plot(df_ohlcv_y['종가'], label=str(y))\n",
        "\n",
        "plt.legend()"
      ],
      "metadata": {
        "id": "-TpPPNybUR1h"
      },
      "execution_count": null,
      "outputs": []
    },
    {
      "cell_type": "markdown",
      "source": [
        "price change adjust with index for years"
      ],
      "metadata": {
        "id": "dXEH9n6GmrBw"
      }
    },
    {
      "cell_type": "code",
      "source": [
        "df_ohlcv = stock.get_market_ohlcv('20170101', '20231015', ticker_dict['하츠'])\n",
        "df_kosdaq = stock.get_index_ohlcv(\"20170101\", \"20231015\", \"2001\")\n",
        "df_ohlcv['종가'] = df_ohlcv['종가'] / df_kosdaq['종가']"
      ],
      "metadata": {
        "id": "bTsiZyyxZAMH"
      },
      "execution_count": null,
      "outputs": []
    },
    {
      "cell_type": "code",
      "source": [
        "y_lst = [2017, 2018, 2019, 2021, 2022, 2023]\n",
        "for y in y_lst:\n",
        "    filter = (str(y+1) > df_ohlcv.index) & (df_ohlcv.index > str(y))\n",
        "    df_ohlcv_y = df_ohlcv[filter]\n",
        "    df_ohlcv_y = df_ohlcv_y.reset_index()\n",
        "\n",
        "    plt.plot(df_ohlcv_y['종가'], label=str(y))\n",
        "\n",
        "plt.legend()"
      ],
      "metadata": {
        "id": "m8ZIMFd2Vufq"
      },
      "execution_count": null,
      "outputs": []
    }
  ]
}