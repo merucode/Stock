{
  "nbformat": 4,
  "nbformat_minor": 0,
  "metadata": {
    "colab": {
      "private_outputs": true,
      "provenance": [],
      "gpuType": "T4",
      "include_colab_link": true
    },
    "kernelspec": {
      "name": "python3",
      "display_name": "Python 3"
    },
    "language_info": {
      "name": "python"
    },
    "accelerator": "GPU"
  },
  "cells": [
    {
      "cell_type": "markdown",
      "metadata": {
        "id": "view-in-github",
        "colab_type": "text"
      },
      "source": [
        "<a href=\"https://colab.research.google.com/github/merucode/Stock/blob/11_stock_info/21_theme_report(dust).ipynb\" target=\"_parent\"><img src=\"https://colab.research.google.com/assets/colab-badge.svg\" alt=\"Open In Colab\"/></a>"
      ]
    },
    {
      "cell_type": "markdown",
      "source": [
        "# STEP 0. Install Dependency"
      ],
      "metadata": {
        "id": "YUfDAfleT9k-"
      }
    },
    {
      "cell_type": "code",
      "source": [
        "!pip install pykrx"
      ],
      "metadata": {
        "collapsed": true,
        "id": "NztO4qCyTva5"
      },
      "execution_count": null,
      "outputs": []
    },
    {
      "cell_type": "markdown",
      "source": [
        "# STEP 1. Infomation about Issue"
      ],
      "metadata": {
        "id": "BX7la_-jcfrL"
      }
    },
    {
      "cell_type": "markdown",
      "source": [
        "### Google 검색어 트랜드\n",
        "* [Google 검색어 트랜드](https://trends.google.co.kr/trends/explore?date=2011-01-01%202023-10-24&geo=KR&q=%EB%AF%B8%EC%84%B8%EB%A8%BC%EC%A7%80&hl=ko)"
      ],
      "metadata": {
        "id": "jPf2-lbhdO1t"
      }
    },
    {
      "cell_type": "markdown",
      "source": [
        "### Issue(일자 뉴스 서울미세먼지수치)\n",
        "* 2017-03-24 [미세먼지 ‘매우 나쁨’… 붉은 조명의 남산타워\n",
        "](https://www.seoul.co.kr/news/newsView.php?id=20170118500151)(130)\n",
        "* 2018-03-25 [전국 미세먼지 나쁨 예보, 노약자·임산부·기저질환자 더 주의](https://m.health.chosun.com/svc/news_view.html?contid=2018032301083)(140)\n",
        "* 2019-03-05 [오늘 서울 관측사상 최악 초미세먼지 가능성…150㎍/㎥ 육박](https://www.yna.co.kr/view/AKR20190305081600004)(200)\n",
        "* 2021-03-29 [서울 미세먼지 경보·초미세먼지 주의보 동시 발령](https://www.chosun.com/national/transport-environment/2021/03/29/KUG6O5YU6BHIFF3HVYE6ZI4VR4/)(300)\n",
        "* 2023-01-08 [미세먼지 감옥에 대한민국 갇혔다](https://www.seoul.co.kr/news/newsView.php?id=20230109001012)(150)\n",
        "* 2023-03-23 [오후부터 황사 유입…서울 등 서쪽 중심 미세먼지 ‘매우나쁨’](https://www.seoul.co.kr/news/newsView.php?id=20230323500018)(150)"
      ],
      "metadata": {
        "id": "fLaDcjfMcl56"
      }
    },
    {
      "cell_type": "markdown",
      "source": [
        "### Reference Site\n",
        "* [서울특별시 대기환경정보 미세먼지통계-일별](https://cleanair.seoul.go.kr/statistics/dayAverage)"
      ],
      "metadata": {
        "id": "n6oStkJff8jR"
      }
    },
    {
      "cell_type": "markdown",
      "source": [
        "# Plot"
      ],
      "metadata": {
        "id": "vONifTtuwXK-"
      }
    },
    {
      "cell_type": "code",
      "source": [
        "from pykrx import stock           # 데이터 : 주식 데이터 전송\n",
        "import datetime                   # 그래프 : 문자열 시간 전환\n",
        "import matplotlib.pyplot as plt   # 그래프\n",
        "%matplotlib inline\n",
        "\n",
        "tickers_KOSDAQ = stock.get_market_ticker_list(market=\"KOSDAQ\")\n",
        "tickers_KOSPI = stock.get_market_ticker_list(market=\"KOSPI\")\n",
        "tickers = tickers_KOSDAQ + tickers_KOSPI\n",
        "ticker_dict = dict()\n",
        "\n",
        "for ticker in tickers:\n",
        "    stock_name = stock.get_market_ticker_name(ticker)\n",
        "    ticker_dict[stock_name] = ticker\n",
        "\n",
        "def convert_ohlcv_format(df):\n",
        "    df = df.reset_index()\n",
        "    df = df[['날짜', '시가', '고가', '저가', '종가', '거래량']]\n",
        "    df.columns = ['date', 'open', 'high', 'low', 'close', 'volume']\n",
        "    return df\n",
        "\n",
        "def plot_with_issue_date(start_date, end_date, stock_name_lst, issue_date_lst,  year_lst, ticker_dict,adjust=False):\n",
        "    ### Get ohlcv\n",
        "    ohlcv_lst = []\n",
        "    for stock_name in stock_name_lst:\n",
        "        ohlcv = stock.get_market_ohlcv(start_date, end_date, ticker_dict[stock_name])\n",
        "        ohlcv = convert_ohlcv_format(ohlcv)\n",
        "        ohlcv_lst.append(ohlcv)\n",
        "    ohlcv_kosdaq = stock.get_index_ohlcv(start_date, end_date, \"2001\")\n",
        "    ohlcv_kosdaq = convert_ohlcv_format(ohlcv_kosdaq)\n",
        "    ohlcv_kosdaq['close'] = ohlcv_kosdaq['close'] if adjust==True else 1\n",
        "\n",
        "    ### Convert str date to datetime date\n",
        "    issue_date_dt_lst = []    # issue_date\n",
        "    for issue_date_str in issue_date_lst:\n",
        "        issue_date_dt_lst.append(datetime.datetime.strptime(issue_date_str, '%Y-%m-%d'))\n",
        "\n",
        "    year_dt_lst = []    # year\n",
        "    for year_str in year_lst:\n",
        "        year_dt_lst.append(datetime.datetime.strptime(year_str, '%Y-%m-%d'))\n",
        "\n",
        "\n",
        "    ### Plot\n",
        "    fig, ax = plt.subplots(len(stock_name_lst)+1, 1, figsize=(12, 12), constrained_layout=True)\n",
        "    # figsize : Plot 창 크기\n",
        "    # constrained_layout=True : 서브플롯 간의 간격 자동 조절\n",
        "\n",
        "    plot_color_lst = ['C0', 'C1', 'C2', 'C3', 'C4', 'C5', 'C6', 'C7', 'C8', 'C9']\n",
        "\n",
        "    for ohlcv, stock_name in zip(ohlcv_lst, stock_name_lst):     # close price line plot\n",
        "        ax[0].plot(ohlcv['date'], ohlcv['close']/ohlcv['close'][0]/ohlcv_kosdaq['close'], label=stock_name)\n",
        "        ax[0].set_title('종합 그래프')\n",
        "\n",
        "    for i, ohlcv in enumerate(ohlcv_lst):     # close price adjust by kosdaq line plot\n",
        "        ax[i+1].plot(ohlcv['date'], ohlcv['close']/ohlcv_kosdaq['close'], color=plot_color_lst[i])\n",
        "        ax[i+1].set_title(f'{stock_name_lst[i]}')\n",
        "\n",
        "    for pt in issue_date_dt_lst:    # add issue date line\n",
        "        for i in range(0, len(stock_name_lst)+1):\n",
        "            ax[i].axvline(x=pt, color='#D62728')\n",
        "\n",
        "    for pt in year_dt_lst:    # add year line\n",
        "        for i in range(0, len(stock_name_lst)+1):\n",
        "            ax[i].axvline(x=pt, color='#EFE034')\n",
        "\n",
        "    ax[0].legend()\n",
        "    plt.show()"
      ],
      "metadata": {
        "id": "OCQTZOShXzqY"
      },
      "execution_count": null,
      "outputs": []
    },
    {
      "cell_type": "code",
      "source": [
        "start_date = '2017-01-01'\n",
        "end_date = '2023-10-18'\n",
        "stock_name_lst = ['크린앤사이언스', '하츠']\n",
        "year_lst = ['2018-01-01', '2019-01-01', '2020-01-01', '2021-01-01', '2022-01-01', '2023-01-01']\n",
        "issue_date_lst = ['2017-03-24', '2018-03-25', '2019-03-05', '2021-03-29', '2023-01-08','2023-03-23']\n",
        "\n",
        "plot_with_issue_date(start_date, end_date, stock_name_lst, issue_date_lst, year_lst, ticker_dict)"
      ],
      "metadata": {
        "id": "mh89D8CAYbQK"
      },
      "execution_count": null,
      "outputs": []
    },
    {
      "cell_type": "markdown",
      "source": [],
      "metadata": {
        "id": "JAGxJDpeZ0fg"
      }
    },
    {
      "cell_type": "markdown",
      "source": [
        "#\n",
        ":"
      ],
      "metadata": {
        "id": "NDs6beOxWldo"
      }
    }
  ]
}