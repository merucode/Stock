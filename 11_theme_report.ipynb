{
  "nbformat": 4,
  "nbformat_minor": 0,
  "metadata": {
    "colab": {
      "private_outputs": true,
      "provenance": [],
      "gpuType": "T4",
      "include_colab_link": true
    },
    "kernelspec": {
      "name": "python3",
      "display_name": "Python 3"
    },
    "language_info": {
      "name": "python"
    },
    "accelerator": "GPU"
  },
  "cells": [
    {
      "cell_type": "markdown",
      "metadata": {
        "id": "view-in-github",
        "colab_type": "text"
      },
      "source": [
        "<a href=\"https://colab.research.google.com/github/merucode/Stock/blob/11_stock_info/11_theme_report.ipynb\" target=\"_parent\"><img src=\"https://colab.research.google.com/assets/colab-badge.svg\" alt=\"Open In Colab\"/></a>"
      ]
    },
    {
      "cell_type": "markdown",
      "source": [
        "# Install Dependency"
      ],
      "metadata": {
        "id": "YUfDAfleT9k-"
      }
    },
    {
      "cell_type": "code",
      "source": [
        "!pip install pykrx"
      ],
      "metadata": {
        "collapsed": true,
        "id": "NztO4qCyTva5"
      },
      "execution_count": null,
      "outputs": []
    },
    {
      "cell_type": "markdown",
      "source": [
        "# Plot"
      ],
      "metadata": {
        "id": "vONifTtuwXK-"
      }
    },
    {
      "cell_type": "code",
      "source": [
        "from pykrx import stock           # 데이터 : 주식 데이터 전송\n",
        "import datetime                   # 그래프 : 문자열 시간 전환\n",
        "import matplotlib.pyplot as plt   # 그래프\n",
        "%matplotlib inline\n",
        "\n",
        "tickers_KOSDAQ = stock.get_market_ticker_list(market=\"KOSDAQ\")\n",
        "tickers_KOSPI = stock.get_market_ticker_list(market=\"KOSPI\")\n",
        "tickers = tickers_KOSDAQ + tickers_KOSPI\n",
        "ticker_dict = dict()\n",
        "\n",
        "for ticker in tickers:\n",
        "    stock_name = stock.get_market_ticker_name(ticker)\n",
        "    ticker_dict[stock_name] = ticker\n",
        "\n",
        "def convert_ohlcv_format(df):\n",
        "    df = df.reset_index()\n",
        "    df = df[['날짜', '시가', '고가', '저가', '종가', '거래량']]\n",
        "    df.columns = ['date', 'open', 'high', 'low', 'close', 'volume']\n",
        "    return df\n",
        "\n",
        "def plot_with_issue_date(start_date, end_date, stock_name_lst, issue_date_lst, ticker_dict, adjust=False):\n",
        "    ### Get ohlcv\n",
        "    ohlcv_lst = []\n",
        "    for stock_name in stock_name_lst:\n",
        "        ohlcv = stock.get_market_ohlcv(start_date, end_date, ticker_dict[stock_name])\n",
        "        ohlcv = convert_ohlcv_format(ohlcv)\n",
        "        ohlcv_lst.append(ohlcv)\n",
        "    ohlcv_kosdaq = stock.get_index_ohlcv(start_date, end_date, \"2001\")\n",
        "    ohlcv_kosdaq = convert_ohlcv_format(ohlcv_kosdaq)\n",
        "    ohlcv_kosdaq['close'] = ohlcv_kosdaq['close'] if adjust==True else 1\n",
        "\n",
        "    ### Convert str date to datetime date\n",
        "    issue_date_dt_lst = []\n",
        "    for issue_date_str in issue_date_lst:\n",
        "        issue_date_dt_lst.append(datetime.datetime.strptime(issue_date_str, '%Y-%m-%d'))\n",
        "\n",
        "    ### Plot\n",
        "    fig, ax = plt.subplots(len(stock_name_lst)+1, 1)\n",
        "    fig.subplots_adjust(hspace=1)\n",
        "    plot_color_lst = ['C0', 'C1', 'C2', 'C3', 'C4', 'C5', 'C6', 'C7', 'C8', 'C9']\n",
        "\n",
        "    for ohlcv, stock_name in zip(ohlcv_lst, stock_name_lst):     # close price line plot\n",
        "        ax[0].plot(ohlcv['date'], ohlcv['close']/ohlcv['close'][0]/ohlcv_kosdaq['close'], label=stock_name)\n",
        "\n",
        "    for i, ohlcv in enumerate(ohlcv_lst):     # close price adjust by kosdaq line plot\n",
        "        ax[i+1].plot(ohlcv['date'], ohlcv['close']/ohlcv_kosdaq['close'], color=plot_color_lst[i])\n",
        "        ax[i+1].set_title(f'{stock_name_lst[i]}')\n",
        "\n",
        "    for pt in issue_date_dt_lst:    # add issue date line\n",
        "        for i in range(0, len(stock_name_lst)+1):\n",
        "            ax[i].axvline(x=pt, color='#d62728')\n",
        "\n",
        "    ax[0].legend()\n",
        "    plt.show()"
      ],
      "metadata": {
        "id": "OCQTZOShXzqY"
      },
      "execution_count": null,
      "outputs": []
    },
    {
      "cell_type": "code",
      "source": [
        "start_date = '2017-01-01'\n",
        "end_date = '2023-10-18'\n",
        "stock_name_lst = ['크린앤사이언스', '하츠']\n",
        "issue_date_lst = ['2018-01-01', '2019-01-01', '2020-01-01', '2021-01-01', '2022-01-01', '2023-01-01']\n",
        "\n",
        "plot_with_issue_date(start_date, end_date, stock_name_lst, issue_date_lst, ticker_dict)"
      ],
      "metadata": {
        "id": "mh89D8CAYbQK"
      },
      "execution_count": null,
      "outputs": []
    }
  ]
}