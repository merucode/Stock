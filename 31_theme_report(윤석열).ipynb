{
  "nbformat": 4,
  "nbformat_minor": 0,
  "metadata": {
    "colab": {
      "private_outputs": true,
      "provenance": [],
      "gpuType": "T4",
      "include_colab_link": true
    },
    "kernelspec": {
      "name": "python3",
      "display_name": "Python 3"
    },
    "language_info": {
      "name": "python"
    }
  },
  "cells": [
    {
      "cell_type": "markdown",
      "metadata": {
        "id": "view-in-github",
        "colab_type": "text"
      },
      "source": [
        "<a href=\"https://colab.research.google.com/github/merucode/Stock/blob/11_stock_info/31_theme_report(%EC%9C%A4%EC%84%9D%EC%97%B4).ipynb\" target=\"_parent\"><img src=\"https://colab.research.google.com/assets/colab-badge.svg\" alt=\"Open In Colab\"/></a>"
      ]
    },
    {
      "cell_type": "markdown",
      "source": [
        "# STEP 0. Install Dependency"
      ],
      "metadata": {
        "id": "YUfDAfleT9k-"
      }
    },
    {
      "cell_type": "code",
      "source": [
        "!pip install pykrx\n",
        "!pip install dart-fss"
      ],
      "metadata": {
        "collapsed": true,
        "id": "NztO4qCyTva5"
      },
      "execution_count": null,
      "outputs": []
    },
    {
      "cell_type": "markdown",
      "source": [
        "# STEP 1. Infomation about Issue"
      ],
      "metadata": {
        "id": "BX7la_-jcfrL"
      }
    },
    {
      "cell_type": "markdown",
      "source": [
        "### Google 검색어 트랜드\n",
        "* [Google 검색어 트랜드](https://trends.google.co.kr/trends/explore?date=2020-01-02%202022-12-02&geo=KR&q=%EC%9C%A4%EC%84%9D%EC%97%B4&hl=ko)"
      ],
      "metadata": {
        "id": "jPf2-lbhdO1t"
      }
    },
    {
      "cell_type": "markdown",
      "source": [
        "### Issue(일자 뉴스)\n",
        "* 2019.7.25 ~ 2021.3.4  제43대 검찰총장 (문재인 정부)\n",
        "* 2021-03-04  여권의 검찰 수사권 완전 박탈 추진에 반대하며 사퇴\n",
        "* **2021-05-30 17:30 [[단독] 윤석열 만난 권성동 “尹, 대선출마 강한 의지 드러내”](https://www.chosun.com/politics/assembly/2021/05/31/PDS6UFJJWBDPNNYCDNF2VU6L7E/)**\n",
        "  * 최고 상한가\n",
        "* 2021-11-05  제20대 대통령 선거 국민의힘 후보(무소속상태)\n",
        "* 2022-03-10  제20대 대통령 당선"
      ],
      "metadata": {
        "id": "fLaDcjfMcl56"
      }
    },
    {
      "cell_type": "markdown",
      "source": [
        "### Reference Site"
      ],
      "metadata": {
        "id": "n6oStkJff8jR"
      }
    },
    {
      "cell_type": "markdown",
      "source": [
        "# STEP 2. 종합 분석 Plot"
      ],
      "metadata": {
        "id": "vONifTtuwXK-"
      }
    },
    {
      "cell_type": "markdown",
      "source": [
        "### Step 2-1. Def"
      ],
      "metadata": {
        "id": "typiTLq_IcQy"
      }
    },
    {
      "cell_type": "code",
      "source": [
        "from pykrx import stock           # 데이터 : 주식 데이터 전송\n",
        "import datetime                   # 그래프 : 문자열 시간 전환\n",
        "import matplotlib.pyplot as plt   # 그래프\n",
        "%matplotlib inline\n",
        "\n",
        "tickers_KOSDAQ = stock.get_market_ticker_list(market=\"KOSDAQ\")\n",
        "tickers_KOSPI = stock.get_market_ticker_list(market=\"KOSPI\")\n",
        "tickers = tickers_KOSDAQ + tickers_KOSPI\n",
        "ticker_dict = dict()\n",
        "\n",
        "for ticker in tickers:\n",
        "    stock_name = stock.get_market_ticker_name(ticker)\n",
        "    ticker_dict[stock_name] = ticker\n",
        "\n",
        "def convert_ohlcv_format(df):\n",
        "    df = df.reset_index()\n",
        "    df = df[['날짜', '시가', '고가', '저가', '종가', '거래량']]\n",
        "    df.columns = ['date', 'open', 'high', 'low', 'close', 'volume']\n",
        "    return df\n",
        "\n",
        "def plot_with_issue_date(start_date, end_date, stock_name_lst, ticker_dict, issue_date_lst,  year_lst):\n",
        "    ### Get ohlcv\n",
        "    ohlcv_kosdaq = stock.get_index_ohlcv(start_date, end_date, \"2001\")\n",
        "    ohlcv_kosdaq = convert_ohlcv_format(ohlcv_kosdaq)\n",
        "\n",
        "    ohlcv_lst = []\n",
        "    for stock_name in stock_name_lst:\n",
        "        ohlcv = stock.get_market_ohlcv(start_date, end_date, ticker_dict[stock_name])\n",
        "        ohlcv = convert_ohlcv_format(ohlcv)\n",
        "        ohlcv['ad_close'] = ohlcv['close'] / ohlcv_kosdaq['close']\n",
        "        ohlcv_lst.append(ohlcv)\n",
        "\n",
        "    ### Convert str date to datetime date\n",
        "    issue_date_dt_lst = []    # issue_date\n",
        "    for issue_date_str in issue_date_lst:\n",
        "        issue_date_dt_lst.append(datetime.datetime.strptime(issue_date_str, '%Y-%m-%d'))\n",
        "\n",
        "    year_dt_lst = []    # year\n",
        "    for year_str in year_lst:\n",
        "        year_dt_lst.append(datetime.datetime.strptime(year_str, '%Y-%m-%d'))\n",
        "\n",
        "\n",
        "    ### Plot\n",
        "    fig, ax = plt.subplots(len(stock_name_lst)+1, 2, figsize=(14, 4+4*len(stock_name_lst)), constrained_layout=True)\n",
        "    # figsize : 가로 10, 세로 stock_name_lst 갯수\n",
        "    # constrained_layout=True : 서브플롯 간의 간격 자동 조절\n",
        "\n",
        "    plot_color_lst = ['C0', 'C1', 'C2', 'C3', 'C4', 'C5', 'C6', 'C7', 'C8', 'C9']\n",
        "\n",
        "    for ohlcv, stock_name in zip(ohlcv_lst, stock_name_lst):     # close price line plot\n",
        "        ax[0][0].plot(ohlcv['date'], ohlcv['close']/ohlcv['close'][0], label=stock_name)\n",
        "        ax[0][0].set_title('종합 그래프')\n",
        "\n",
        "        ax[0][1].plot(ohlcv['date'], ohlcv['ad_close']/ohlcv['ad_close'][0], label=stock_name)\n",
        "        ax[0][0].set_title('종합 그래프 adjusted by KOSDAQ')\n",
        "\n",
        "    for i, ohlcv in enumerate(ohlcv_lst):     # close price adjust by KOSDAQ line plot\n",
        "        ax[i+1][0].plot(ohlcv['date'], ohlcv['close'], color=plot_color_lst[i])\n",
        "        ax[i+1][0].set_title(f'{stock_name_lst[i]}')\n",
        "\n",
        "        ax[i+1][1].plot(ohlcv['date'], ohlcv['ad_close'], color=plot_color_lst[i])\n",
        "        ax[i+1][1].set_title(f'{stock_name_lst[i]} adjusted by KOSDAQ')\n",
        "\n",
        "\n",
        "    for pt in issue_date_dt_lst:    # add issue date line\n",
        "        for i in range(0, len(stock_name_lst)+1):\n",
        "            ax[i][0].axvline(x=pt, color='#D62728')\n",
        "            ax[i][1].axvline(x=pt, color='#D62728')\n",
        "\n",
        "    for pt in year_dt_lst:    # add year line\n",
        "        for i in range(0, len(stock_name_lst)+1):\n",
        "            ax[i][0].axvline(x=pt, color='#EFE034')\n",
        "            ax[i][1].axvline(x=pt, color='#EFE034')\n",
        "\n",
        "    ax[0][0].legend()\n",
        "    ax[0][1].legend()\n",
        "    plt.show()"
      ],
      "metadata": {
        "id": "OCQTZOShXzqY"
      },
      "execution_count": null,
      "outputs": []
    },
    {
      "cell_type": "markdown",
      "source": [
        "### Step 2-2. Plot"
      ],
      "metadata": {
        "id": "nUIRmsq04BZK"
      }
    },
    {
      "cell_type": "code",
      "source": [
        "start_date = '2019-01-01'\n",
        "end_date = '2022-12-01'\n",
        "stock_name_lst = ['NE능률', '아이크래프트', '덕성', '원익큐브', '푸른저축은행', '효성오앤비', '모헨즈', '승일', '깨끗한나라']\n",
        "year_lst = ['2020-01-01', '2021-01-01', '2022-01-01']\n",
        "issue_date_lst = ['2021-03-04', '2021-06-01', '2021-11-05', '2022-03-10']\n",
        "\n",
        "plot_with_issue_date(start_date, end_date, stock_name_lst, ticker_dict, issue_date_lst, year_lst)"
      ],
      "metadata": {
        "id": "mh89D8CAYbQK"
      },
      "execution_count": null,
      "outputs": []
    },
    {
      "cell_type": "markdown",
      "source": [
        "# STEP 3. 개별분석"
      ],
      "metadata": {
        "id": "UW1NVyUkIgiu"
      }
    },
    {
      "cell_type": "markdown",
      "source": [
        "### Step 3-1. Def"
      ],
      "metadata": {
        "id": "XLUkUsjXLAEp"
      }
    },
    {
      "cell_type": "code",
      "source": [
        "### 연도별 그래프\n",
        "def plot_per_year(start_date, end_date, stock_name, ticker_dict, std_month):\n",
        "    ### Get ohlcv\n",
        "    ohlcv = stock.get_market_ohlcv(start_date, end_date, ticker_dict[stock_name])\n",
        "    ohlcv = convert_ohlcv_format(ohlcv)\n",
        "    ohlcv_kosdaq = stock.get_index_ohlcv(start_date, end_date, \"2001\")\n",
        "    ohlcv_kosdaq = convert_ohlcv_format(ohlcv_kosdaq)\n",
        "    ohlcv_kosdaq['close'] = ohlcv_kosdaq['close']\n",
        "    ohlcv['ad_close'] = ohlcv['close'] / ohlcv_kosdaq['close']\n",
        "\n",
        "    ### Plot\n",
        "    y_lst = [2020, 2021, 2022] #### [수정 입력] 필요2023\n",
        "\n",
        "    fig, ax = plt.subplots(2, 2, figsize=(14, 10), constrained_layout=True)\n",
        "    for y in y_lst:\n",
        "        filter = (f'{y+1}-{std_month}-01' > ohlcv['date']) & (ohlcv['date'] > f'{y}-{std_month}-01')\n",
        "        ohlcv_y = ohlcv[filter]\n",
        "        ohlcv_y = ohlcv_y.reset_index()\n",
        "\n",
        "        ax[0][0].plot(ohlcv_y['close'], label=f'{str(y)}-{str(std_month)} ~ {str(y+1)}-{str(std_month-1)}')     # 종가\n",
        "        ax[0][1].plot(ohlcv_y['ad_close'], label=f'{str(y)}-{str(std_month)} ~ {str(y+1)}-{str(std_month-1)}')  # 수정종가\n",
        "        ax[1][0].plot(ohlcv_y['close']/ohlcv_y['close'][0], label=f'{str(y)}-{str(std_month)}  ~ {str(y+1)}-{str(std_month-1)}') # 시작점 대비 변화\n",
        "\n",
        "\n",
        "    for pt in range(20, 260, 20):    # add month line\n",
        "        ax[0][0].axvline(x=pt, color='#EFE034')\n",
        "        ax[0][1].axvline(x=pt, color='#EFE034')\n",
        "        ax[1][0].axvline(x=pt, color='#EFE034')\n",
        "\n",
        "    ax[0][0].set_title('종가 연도별 그래프')\n",
        "    ax[0][1].set_title('수정종가 연도별 그래프')\n",
        "    ax[1][0].set_title('시작점 대비 변화 연도별 그래프')\n",
        "\n",
        "    ax[0][0].legend()\n",
        "    ax[0][1].legend()\n",
        "    ax[1][0].legend()\n",
        "    plt.show()"
      ],
      "metadata": {
        "id": "fGd_bhOjLB31"
      },
      "execution_count": null,
      "outputs": []
    },
    {
      "cell_type": "code",
      "source": [
        "def convert_cap_format(df):\n",
        "    df = df.reset_index()\n",
        "    df = df[['날짜', '시가총액', '상장주식수']]\n",
        "    df.columns = ['date', 'cap', 'stocks']\n",
        "    return df\n",
        "\n",
        "### 상장주식 수\n",
        "def plot_cap(start_date, end_date, stock_name, ticker_dict):\n",
        "    ### Get cap data\n",
        "    cap = stock.get_market_cap(start_date, end_date, ticker_dict[stock_name])\n",
        "    cap = convert_cap_format(cap)\n",
        "\n",
        "    fig, ax = plt.subplots(1, 2, figsize=(14, 5), constrained_layout=True)\n",
        "    ax[0].plot(cap['date'], cap['cap'], color='C0', label='시가총액')\n",
        "    ax2 = ax[0].twinx()\n",
        "    ax2.plot(cap['date'], cap['stocks'], color='C1', label='상장주식수')\n",
        "\n",
        "    ax[0].legend(loc='upper left')\n",
        "    ax2.legend()\n",
        "\n",
        "    ax[0].set_title('시가총액&상장주식수')\n",
        "    ax[1].set_title('')\n",
        "    plt.show()"
      ],
      "metadata": {
        "id": "FurXA7ADQehE"
      },
      "execution_count": null,
      "outputs": []
    },
    {
      "cell_type": "code",
      "source": [
        "import dart_fss as dart\n",
        "\n",
        "api_key='###'\n",
        "dart.set_api_key(api_key=api_key)"
      ],
      "metadata": {
        "id": "tbNIyXudlGIe"
      },
      "execution_count": null,
      "outputs": []
    },
    {
      "cell_type": "markdown",
      "source": [
        "### NE능률"
      ],
      "metadata": {
        "id": "PBx2qjc3JCmC"
      }
    },
    {
      "cell_type": "code",
      "source": [
        "start_date = '2020-01-01'\n",
        "end_date = '2022-12-30'\n",
        "stock_name = 'NE능률'\n",
        "std_month = 1\n",
        "\n",
        "plot_per_year(start_date, end_date, stock_name, ticker_dict, std_month)"
      ],
      "metadata": {
        "id": "fpK6RDZOLxtZ"
      },
      "execution_count": null,
      "outputs": []
    },
    {
      "cell_type": "code",
      "source": [
        "plot_cap(start_date, end_date, stock_name, ticker_dict)"
      ],
      "metadata": {
        "id": "_iQ_E-M2SQvb"
      },
      "execution_count": null,
      "outputs": []
    },
    {
      "cell_type": "code",
      "source": [
        "reports = dart.filings.search(corp_code=ticker_dict[stock_name], bgn_de='20170101', end_de='20231030', pblntf_detail_ty='b001')\n",
        "reports"
      ],
      "metadata": {
        "id": "K9cU2CJ3lLf3"
      },
      "execution_count": null,
      "outputs": []
    },
    {
      "cell_type": "markdown",
      "source": [
        "# STEP 4. Report"
      ],
      "metadata": {
        "id": "NDs6beOxWldo"
      }
    },
    {
      "cell_type": "markdown",
      "source": [
        "\n",
        "### Issue\n",
        "\n",
        "### Related Stock\n",
        "\n",
        "### Plan"
      ],
      "metadata": {
        "id": "s6fMQeXFImvY"
      }
    }
  ]
}