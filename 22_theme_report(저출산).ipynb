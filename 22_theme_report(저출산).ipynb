{
  "nbformat": 4,
  "nbformat_minor": 0,
  "metadata": {
    "colab": {
      "private_outputs": true,
      "provenance": [],
      "gpuType": "T4",
      "include_colab_link": true
    },
    "kernelspec": {
      "name": "python3",
      "display_name": "Python 3"
    },
    "language_info": {
      "name": "python"
    },
    "accelerator": "GPU"
  },
  "cells": [
    {
      "cell_type": "markdown",
      "metadata": {
        "id": "view-in-github",
        "colab_type": "text"
      },
      "source": [
        "<a href=\"https://colab.research.google.com/github/merucode/Stock/blob/11_stock_info/22_theme_report(%EC%A0%80%EC%B6%9C%EC%82%B0).ipynb\" target=\"_parent\"><img src=\"https://colab.research.google.com/assets/colab-badge.svg\" alt=\"Open In Colab\"/></a>"
      ]
    },
    {
      "cell_type": "markdown",
      "source": [
        "# STEP 0. Install Dependency"
      ],
      "metadata": {
        "id": "YUfDAfleT9k-"
      }
    },
    {
      "cell_type": "code",
      "source": [
        "!pip install pykrx\n",
        "!pip install dart-fss"
      ],
      "metadata": {
        "collapsed": true,
        "id": "NztO4qCyTva5"
      },
      "execution_count": null,
      "outputs": []
    },
    {
      "cell_type": "markdown",
      "source": [
        "# STEP 1. Infomation about Issue"
      ],
      "metadata": {
        "id": "BX7la_-jcfrL"
      }
    },
    {
      "cell_type": "markdown",
      "source": [
        "### Google 검색어 트랜드\n",
        "* [Google 검색어 트랜드](https://trends.google.co.kr/trends/explore?date=today%205-y&geo=KR&q=%EC%A0%80%EC%B6%9C%EC%82%B0&hl=ko)"
      ],
      "metadata": {
        "id": "jPf2-lbhdO1t"
      }
    },
    {
      "cell_type": "markdown",
      "source": [
        "### Issue\n",
        "* 통계청 발표 이력\n",
        "    * 매달 마지막 주 수요일에 2달 전 출생통계 발표\n",
        "    * 2023-02-22 2022년 출생·사망통계(잠정)\n",
        "    * 2023-08-30 2023년 6월 및 2분기 인구동향(출생, 사망, 혼인, 이혼)\n",
        "* 통계청 발표 예정\n",
        "    * 2023-11-29 2023년 10월 및 3분기 인구동향(출생, 사망, 혼인, 이혼)\n",
        "    * 2024-02-29 2023년 잠정출산율 발표"
      ],
      "metadata": {
        "id": "fLaDcjfMcl56"
      }
    },
    {
      "cell_type": "markdown",
      "source": [
        "### Reference Site\n",
        "* [통계청 출생통계 보도자료](https://kostat.go.kr/board.es?mid=a10301010000&bid=a103010100)"
      ],
      "metadata": {
        "id": "n6oStkJff8jR"
      }
    },
    {
      "cell_type": "markdown",
      "source": [
        "# STEP 2. 종합 분석 Plot"
      ],
      "metadata": {
        "id": "vONifTtuwXK-"
      }
    },
    {
      "cell_type": "markdown",
      "source": [
        "### Step 2-1. Def"
      ],
      "metadata": {
        "id": "typiTLq_IcQy"
      }
    },
    {
      "cell_type": "code",
      "source": [
        "from pykrx import stock           # 데이터 : 주식 데이터 전송\n",
        "import datetime                   # 그래프 : 문자열 시간 전환\n",
        "import matplotlib.pyplot as plt   # 그래프\n",
        "%matplotlib inline\n",
        "\n",
        "tickers_KOSDAQ = stock.get_market_ticker_list(market=\"KOSDAQ\")\n",
        "tickers_KOSPI = stock.get_market_ticker_list(market=\"KOSPI\")\n",
        "tickers = tickers_KOSDAQ + tickers_KOSPI\n",
        "ticker_dict = dict()\n",
        "\n",
        "for ticker in tickers:\n",
        "    stock_name = stock.get_market_ticker_name(ticker)\n",
        "    ticker_dict[stock_name] = ticker\n",
        "\n",
        "def convert_ohlcv_format(df):\n",
        "    df = df.reset_index()\n",
        "    df = df[['날짜', '시가', '고가', '저가', '종가', '거래량']]\n",
        "    df.columns = ['date', 'open', 'high', 'low', 'close', 'volume']\n",
        "    return df\n",
        "\n",
        "def plot_with_issue_date(start_date, end_date, stock_name_lst, ticker_dict, issue_date_lst,  year_lst):\n",
        "    ### Get ohlcv\n",
        "    ohlcv_kosdaq = stock.get_index_ohlcv(start_date, end_date, \"2001\")\n",
        "    ohlcv_kosdaq = convert_ohlcv_format(ohlcv_kosdaq)\n",
        "\n",
        "    ohlcv_lst = []\n",
        "    for stock_name in stock_name_lst:\n",
        "        ohlcv = stock.get_market_ohlcv(start_date, end_date, ticker_dict[stock_name])\n",
        "        ohlcv = convert_ohlcv_format(ohlcv)\n",
        "        ohlcv['ad_close'] = ohlcv['close'] / ohlcv_kosdaq['close']\n",
        "        ohlcv_lst.append(ohlcv)\n",
        "\n",
        "    ### Convert str date to datetime date\n",
        "    issue_date_dt_lst = []    # issue_date\n",
        "    for issue_date_str in issue_date_lst:\n",
        "        issue_date_dt_lst.append(datetime.datetime.strptime(issue_date_str, '%Y-%m-%d'))\n",
        "\n",
        "    year_dt_lst = []    # year\n",
        "    for year_str in year_lst:\n",
        "        year_dt_lst.append(datetime.datetime.strptime(year_str, '%Y-%m-%d'))\n",
        "\n",
        "\n",
        "    ### Plot\n",
        "    fig, ax = plt.subplots(len(stock_name_lst)+1, 2, figsize=(14, 4+4*len(stock_name_lst)), constrained_layout=True)\n",
        "    # figsize : 가로 10, 세로 stock_name_lst 갯수\n",
        "    # constrained_layout=True : 서브플롯 간의 간격 자동 조절\n",
        "\n",
        "    plot_color_lst = ['C0', 'C1', 'C2', 'C3', 'C4', 'C5', 'C6', 'C7', 'C8', 'C9']\n",
        "\n",
        "    for ohlcv, stock_name in zip(ohlcv_lst, stock_name_lst):     # close price line plot\n",
        "        ax[0][0].plot(ohlcv['date'], ohlcv['close']/ohlcv['close'][0], label=stock_name)\n",
        "        ax[0][0].set_title('종합 그래프')\n",
        "\n",
        "        ax[0][1].plot(ohlcv['date'], ohlcv['ad_close']/ohlcv['ad_close'][0], label=stock_name)\n",
        "        ax[0][1].set_title('종합 그래프 adjusted by KOSDAQ')\n",
        "\n",
        "    for i, ohlcv in enumerate(ohlcv_lst):     # close price adjust by KOSDAQ line plot\n",
        "        ax[i+1][0].plot(ohlcv['date'], ohlcv['close'], color=plot_color_lst[i])\n",
        "        ax[i+1][0].set_title(f'{stock_name_lst[i]}')\n",
        "\n",
        "        ax[i+1][1].plot(ohlcv['date'], ohlcv['ad_close'], color=plot_color_lst[i])\n",
        "        ax[i+1][1].set_title(f'{stock_name_lst[i]} adjusted by KOSDAQ')\n",
        "\n",
        "\n",
        "    for pt in issue_date_dt_lst:    # add issue date line\n",
        "        for i in range(0, len(stock_name_lst)+1):\n",
        "            ax[i][0].axvline(x=pt, color='#D62728')\n",
        "            ax[i][1].axvline(x=pt, color='#D62728')\n",
        "\n",
        "    for pt in year_dt_lst:    # add year line\n",
        "        for i in range(0, len(stock_name_lst)+1):\n",
        "            ax[i][0].axvline(x=pt, color='#EFE034')\n",
        "            ax[i][1].axvline(x=pt, color='#EFE034')\n",
        "\n",
        "    ax[0][0].legend()\n",
        "    ax[0][1].legend()\n",
        "    plt.show()"
      ],
      "metadata": {
        "id": "OCQTZOShXzqY"
      },
      "execution_count": null,
      "outputs": []
    },
    {
      "cell_type": "markdown",
      "source": [
        "### Step 2-2. Plot : '크린앤사이언스', '하츠', '위니아', '위닉스', '웰크론'"
      ],
      "metadata": {
        "id": "nUIRmsq04BZK"
      }
    },
    {
      "cell_type": "code",
      "source": [
        "start_date = '2023-01-01'\n",
        "end_date = '2023-10-29'\n",
        "stock_name_lst = ['제로투세븐', '아가방컴퍼니', '메디앙스']\n",
        "# 1st Apply : '제로투세븐', '아가방컴퍼니', '메디앙스'\n",
        "# 2nd Apply : '유엔젤'(AI)\n",
        "# Except : '삼성출판사'(반응X), '캐리소프트'(반응小), '토박스코리아'(반응小), 네오팜(반응X)\n",
        "# Wait : '꿈비'(늦게상장)\n",
        "year_lst = ['2023-01-01']\n",
        "issue_date_lst = ['2023-02-22','2023-08-30']\n",
        "\n",
        "plot_with_issue_date(start_date, end_date, stock_name_lst, ticker_dict, issue_date_lst, year_lst)"
      ],
      "metadata": {
        "id": "mh89D8CAYbQK"
      },
      "execution_count": null,
      "outputs": []
    },
    {
      "cell_type": "markdown",
      "source": [
        "# STEP 3. 개별분석"
      ],
      "metadata": {
        "id": "UW1NVyUkIgiu"
      }
    },
    {
      "cell_type": "markdown",
      "source": [
        "### Step 3-1. Def"
      ],
      "metadata": {
        "id": "XLUkUsjXLAEp"
      }
    },
    {
      "cell_type": "code",
      "source": [
        "### 연도별 그래프\n",
        "def plot_per_year(start_date, end_date, stock_name, ticker_dict, std_month):\n",
        "    ### Get ohlcv\n",
        "    ohlcv = stock.get_market_ohlcv(start_date, end_date, ticker_dict[stock_name])\n",
        "    ohlcv = convert_ohlcv_format(ohlcv)\n",
        "    ohlcv_kosdaq = stock.get_index_ohlcv(start_date, end_date, \"2001\")\n",
        "    ohlcv_kosdaq = convert_ohlcv_format(ohlcv_kosdaq)\n",
        "    ohlcv_kosdaq['close'] = ohlcv_kosdaq['close']\n",
        "    ohlcv['ad_close'] = ohlcv['close'] / ohlcv_kosdaq['close']\n",
        "\n",
        "    ### Plot\n",
        "    y_lst = [2023]\n",
        "\n",
        "    fig, ax = plt.subplots(2, 2, figsize=(14, 10), constrained_layout=True)\n",
        "    for y in y_lst:\n",
        "        filter = (f'{y+1}-{std_month}-01' > ohlcv['date']) & (ohlcv['date'] > f'{y}-{std_month}-01')\n",
        "        ohlcv_y = ohlcv[filter]\n",
        "        ohlcv_y = ohlcv_y.reset_index()\n",
        "        ax[0][0].plot(ohlcv_y['close'], label=f'{str(y)}-{str(std_month)} ~ {str(y+1)}-{str(std_month-1)}')     # 종가\n",
        "        ax[0][1].plot(ohlcv_y['ad_close'], label=f'{str(y)}-{str(std_month)} ~ {str(y+1)}-{str(std_month-1)}')  # 수정종가\n",
        "        ax[1][0].plot(ohlcv_y['close']/ohlcv_y['close'][0], label=f'{str(y)}-{str(std_month)}  ~ {str(y+1)}-{str(std_month-1)}') # 시작점 대비 변화\n",
        "\n",
        "\n",
        "    for pt in range(20, 260, 20):    # add month line\n",
        "        ax[0][0].axvline(x=pt, color='#EFE034')\n",
        "        ax[0][1].axvline(x=pt, color='#EFE034')\n",
        "        ax[1][0].axvline(x=pt, color='#EFE034')\n",
        "\n",
        "\n",
        "    ax[0][0].set_title('종가 연도별 그래프')\n",
        "    ax[0][1].set_title('수정종가 연도별 그래프')\n",
        "    ax[1][0].set_title('시작점 대비 변화 연도별 그래프')\n",
        "\n",
        "    ax[0][0].legend()\n",
        "    ax[0][1].legend()\n",
        "    ax[1][0].legend()\n",
        "    plt.show()"
      ],
      "metadata": {
        "id": "fGd_bhOjLB31"
      },
      "execution_count": null,
      "outputs": []
    },
    {
      "cell_type": "code",
      "source": [
        "def convert_cap_format(df):\n",
        "    df = df.reset_index()\n",
        "    df = df[['날짜', '시가총액', '상장주식수']]\n",
        "    df.columns = ['date', 'cap', 'stocks']\n",
        "    return df\n",
        "\n",
        "### 상장주식 수\n",
        "def plot_cap(start_date, end_date, stock_name, ticker_dict):\n",
        "    ### Get cap data\n",
        "    cap = stock.get_market_cap(start_date, end_date, ticker_dict[stock_name])\n",
        "    cap = convert_cap_format(cap)\n",
        "\n",
        "    fig, ax = plt.subplots(1, 2, figsize=(14, 5), constrained_layout=True)\n",
        "    ax[0].plot(cap['date'], cap['cap'], color='C0', label='시가총액')\n",
        "    ax2 = ax[0].twinx()\n",
        "    ax2.plot(cap['date'], cap['stocks'], color='C1', label='상장주식수')\n",
        "\n",
        "    ax[0].legend(loc='upper left')\n",
        "    ax2.legend()\n",
        "\n",
        "    ax[0].set_title('시가총액&상장주식수')\n",
        "    ax[1].set_title('')\n",
        "    plt.show()"
      ],
      "metadata": {
        "id": "FurXA7ADQehE"
      },
      "execution_count": null,
      "outputs": []
    },
    {
      "cell_type": "code",
      "source": [
        "import dart_fss as dart\n",
        "\n",
        "api_key='###'\n",
        "dart.set_api_key(api_key=api_key)"
      ],
      "metadata": {
        "id": "VYIYlkG4LZBg"
      },
      "execution_count": null,
      "outputs": []
    },
    {
      "cell_type": "markdown",
      "source": [
        "### 제로투세븐"
      ],
      "metadata": {
        "id": "PBx2qjc3JCmC"
      }
    },
    {
      "cell_type": "code",
      "source": [
        "start_date = '2023-01-01'\n",
        "end_date = '2023-10-30'\n",
        "stock_name = '제로투세븐'\n",
        "std_month = 1\n",
        "\n",
        "plot_per_year(start_date, end_date, stock_name, ticker_dict, std_month)"
      ],
      "metadata": {
        "id": "fpK6RDZOLxtZ"
      },
      "execution_count": null,
      "outputs": []
    },
    {
      "cell_type": "code",
      "source": [
        "plot_cap('2017-01-01', end_date, stock_name, ticker_dict)"
      ],
      "metadata": {
        "id": "_iQ_E-M2SQvb"
      },
      "execution_count": null,
      "outputs": []
    },
    {
      "cell_type": "code",
      "source": [
        "reports = dart.filings.search(corp_code=ticker_dict[stock_name], bgn_de='20170101', end_de='20231030', pblntf_detail_ty='b001')\n",
        "reports"
      ],
      "metadata": {
        "id": "pKn2vvxzM0zJ"
      },
      "execution_count": null,
      "outputs": []
    },
    {
      "cell_type": "markdown",
      "source": [
        "### 아가방컴퍼니"
      ],
      "metadata": {
        "id": "ir7qPH5kNWDm"
      }
    },
    {
      "cell_type": "code",
      "source": [
        "start_date = '2023-01-01'\n",
        "end_date = '2023-10-30'\n",
        "stock_name = '아가방컴퍼니'\n",
        "std_month = 1\n",
        "\n",
        "plot_per_year(start_date, end_date, stock_name, ticker_dict, std_month)"
      ],
      "metadata": {
        "id": "K4V43PaUNWDm"
      },
      "execution_count": null,
      "outputs": []
    },
    {
      "cell_type": "code",
      "source": [
        "plot_cap('2017-01-01', end_date, stock_name, ticker_dict)"
      ],
      "metadata": {
        "id": "5676AOv7NWDn"
      },
      "execution_count": null,
      "outputs": []
    },
    {
      "cell_type": "code",
      "source": [
        "reports = dart.filings.search(corp_code=ticker_dict[stock_name], bgn_de='20170101', end_de='20231030', pblntf_detail_ty='b001')\n",
        "reports"
      ],
      "metadata": {
        "id": "VA0hj8uvNWDn"
      },
      "execution_count": null,
      "outputs": []
    },
    {
      "cell_type": "markdown",
      "source": [
        "### 메디앙스"
      ],
      "metadata": {
        "id": "87k0GOUcNcyL"
      }
    },
    {
      "cell_type": "code",
      "source": [
        "start_date = '2023-01-01'\n",
        "end_date = '2023-10-30'\n",
        "stock_name = '메디앙스'\n",
        "std_month = 1\n",
        "\n",
        "plot_per_year(start_date, end_date, stock_name, ticker_dict, std_month)"
      ],
      "metadata": {
        "id": "kkgkhCYGNcyT"
      },
      "execution_count": null,
      "outputs": []
    },
    {
      "cell_type": "code",
      "source": [
        "plot_cap('2017-01-01', end_date, stock_name, ticker_dict)"
      ],
      "metadata": {
        "id": "8bvVJ06FNcyT"
      },
      "execution_count": null,
      "outputs": []
    },
    {
      "cell_type": "code",
      "source": [
        "reports = dart.filings.search(corp_code=ticker_dict[stock_name], bgn_de='20170101', end_de='20231030', pblntf_detail_ty='b001')\n",
        "reports"
      ],
      "metadata": {
        "id": "-9_LB5axNcyU"
      },
      "execution_count": null,
      "outputs": []
    },
    {
      "cell_type": "markdown",
      "source": [
        "# STEP 4. Report"
      ],
      "metadata": {
        "id": "NDs6beOxWldo"
      }
    },
    {
      "cell_type": "markdown",
      "source": [
        "\n",
        "### Issue\n",
        "\n",
        "### Related Stock\n",
        "*\n",
        "\n",
        "### Plan\n",
        "* Enter\n",
        "  * 10~12월\n",
        "* Exit\n",
        "  * 1~3월 : 50% 7500 1/2"
      ],
      "metadata": {
        "id": "s6fMQeXFImvY"
      }
    }
  ]
}